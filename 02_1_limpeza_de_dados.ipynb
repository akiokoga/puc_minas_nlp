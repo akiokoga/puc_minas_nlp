{
  "nbformat": 4,
  "nbformat_minor": 0,
  "metadata": {
    "colab": {
      "provenance": []
    },
    "kernelspec": {
      "name": "python3",
      "display_name": "Python 3"
    },
    "language_info": {
      "name": "python"
    }
  },
  "cells": [
    {
      "cell_type": "code",
      "execution_count": 1,
      "metadata": {
        "id": "SkOKv2Cjg0fe",
        "colab": {
          "base_uri": "https://localhost:8080/"
        },
        "outputId": "01f82653-b43e-4b05-e9a9-ee381841323c"
      },
      "outputs": [
        {
          "output_type": "stream",
          "name": "stdout",
          "text": [
            "Requirement already satisfied: beautifulsoup4 in /usr/local/lib/python3.10/dist-packages (4.12.3)\n",
            "Collecting pyspellchecker\n",
            "  Downloading pyspellchecker-0.8.1-py3-none-any.whl (6.8 MB)\n",
            "\u001b[2K     \u001b[90m━━━━━━━━━━━━━━━━━━━━━━━━━━━━━━━━━━━━━━━━\u001b[0m \u001b[32m6.8/6.8 MB\u001b[0m \u001b[31m14.0 MB/s\u001b[0m eta \u001b[36m0:00:00\u001b[0m\n",
            "\u001b[?25hRequirement already satisfied: soupsieve>1.2 in /usr/local/lib/python3.10/dist-packages (from beautifulsoup4) (2.5)\n",
            "Installing collected packages: pyspellchecker\n",
            "Successfully installed pyspellchecker-0.8.1\n"
          ]
        }
      ],
      "source": [
        "# Instalação de pacotes para raspagem e análise de dados.\n",
        "!pip install beautifulsoup4 pyspellchecker"
      ]
    },
    {
      "cell_type": "code",
      "source": [
        "# Declara define funções utilitárias utilizadas no notebook.\n",
        "import datetime\n",
        "import sys\n",
        "def formata_msg(nivel, msg):\n",
        "    \"\"\"\n",
        "    Formata uma mensagem de log incluindo o nível de severidade, timestamp\n",
        "    e a mensagem.\n",
        "\n",
        "    Parâmetros:\n",
        "    - nivel (str): Nível de severidade da mensagem (ex: 'INFO', 'ERROR', 'WARNING').\n",
        "    - msg (str): A mensagem de log propriamente dita.\n",
        "\n",
        "    Retorna:\n",
        "    - str: A mensagem de log formatada.\n",
        "    \"\"\"\n",
        "    timestamp = datetime.datetime.now().strftime('%Y-%m-%d %H:%M:%S')\n",
        "\n",
        "    return f\"[{nivel}] {timestamp} - {msg}\"\n",
        "\n",
        "print(formata_msg(\"INFO\", \"Funções utilitárias prontas para utilização.\"))\n",
        "print(formata_msg(\"INFO\", f\"Versão do Python: {sys.version} \"))"
      ],
      "metadata": {
        "id": "TEnpUAiSdLkp",
        "colab": {
          "base_uri": "https://localhost:8080/"
        },
        "outputId": "788879c5-24d5-412e-8bac-c80363647450"
      },
      "execution_count": 2,
      "outputs": [
        {
          "output_type": "stream",
          "name": "stdout",
          "text": [
            "[INFO] 2024-05-05 02:28:28 - Funções utilitárias prontas para utilização.\n",
            "[INFO] 2024-05-05 02:28:28 - Versão do Python: 3.10.12 (main, Nov 20 2023, 15:14:05) [GCC 11.4.0] \n"
          ]
        }
      ]
    },
    {
      "cell_type": "code",
      "source": [
        "# Importa módulos essenciais para funcionalidades do notebook.\n",
        "from bs4 import BeautifulSoup\n",
        "from spellchecker import SpellChecker\n",
        "\n",
        "print(formata_msg(\"INFO\", \"Bibliotecas importadas com sucesso; ambiente pronto.\"))"
      ],
      "metadata": {
        "id": "Y4MSqiuliJNk",
        "colab": {
          "base_uri": "https://localhost:8080/"
        },
        "outputId": "8079bea2-7a0d-402b-ff71-d6bcac633e92"
      },
      "execution_count": 3,
      "outputs": [
        {
          "output_type": "stream",
          "name": "stdout",
          "text": [
            "[INFO] 2024-05-05 02:28:50 - Bibliotecas importadas com sucesso; ambiente pronto.\n"
          ]
        }
      ]
    },
    {
      "cell_type": "markdown",
      "source": [
        "# Remoção de **caracteres** não imprimíveis\n",
        "Caracteres não imprimíveis, ou caracteres de controle, são fundamentais na codificação de textos, servindo para organizar e controlar a apresentação de dados sem gerar símbolos visíveis. Eles incluem **espaços**, **tabulações ('\\t')**, **quebras de linha ('\\n')** e **retornos de carro ('\\r')**, entre outros, e são usados em dispositivos e softwares para estruturar textos, controlar fluxos de dados e delimitar strings."
      ],
      "metadata": {
        "id": "-be8iXybTHX3"
      }
    },
    {
      "cell_type": "code",
      "source": [
        "texto_exemplo = \"\"\"\n",
        "A marca do home imaturo😜 é\\t\\t querer morrer de maneira nobre por alguma causa🕊️,\\n\n",
        "enquanto\\n\\n a marca do\\r home maduo🤓 é querer viver de maneira humide por uma\\n\n",
        "causa☮️.\n",
        "\"\"\""
      ],
      "metadata": {
        "id": "Fb64rOJmsLH2"
      },
      "execution_count": 4,
      "outputs": []
    },
    {
      "cell_type": "code",
      "source": [
        "html_fragmento = f\"\"\"\n",
        "<div>\n",
        "    {texto_exemplo}\n",
        "</div>\n",
        "\"\"\"\n",
        "soup = BeautifulSoup(html_fragmento, \"html.parser\")\n",
        "\n",
        "print(\"Texto original:\")\n",
        "texto_original = soup.get_text()\n",
        "print(f\"[{texto_original}]\")\n",
        "\n",
        "print(\"\\nTexto limpo:\")\n",
        "texto_limpo = ' '.join(texto_original.split())\n",
        "print(f\"[{texto_limpo}]\")"
      ],
      "metadata": {
        "id": "mKFELcH6sWxn",
        "colab": {
          "base_uri": "https://localhost:8080/"
        },
        "outputId": "c605913d-90dd-4bdb-e4b6-35dced68cda9"
      },
      "execution_count": 12,
      "outputs": [
        {
          "output_type": "stream",
          "name": "stdout",
          "text": [
            "Texto original:\n",
            "[\n",
            "\n",
            "    \n",
            "A marca do home imaturo😜 é\t\t querer morrer de maneira nobre por alguma causa🕊️,\n",
            "\n",
            "enquanto\n",
            "\n",
            " a marca do\r home maduo🤓 é querer viver de maneira humide por uma\n",
            "\n",
            "causa☮️.\n",
            "\n",
            "\n",
            "]\n",
            "\n",
            "Texto limpo:\n",
            "[A marca do home imaturo😜 é querer morrer de maneira nobre por alguma causa🕊️, enquanto a marca do home maduo🤓 é querer viver de maneira humide por uma causa☮️.]\n"
          ]
        }
      ]
    },
    {
      "cell_type": "markdown",
      "source": [
        "# Correção ortográfica\n",
        "A correção ortográfica **corrige erros de escrita**, melhorando a interpretação de textos. Essencial para análises precisas em tarefas como tradução, análise de sentimentos e assistentes virtuais, a correção ortográfica aumenta a eficácia da PLN ao garantir clareza e precisão na comunicação digital. Ela desempenha um papel fundamental na acessibilidade e na **qualidade das informações** processadas, facilitando interações mais naturais e compreensíveis entre humanos e máquinas."
      ],
      "metadata": {
        "id": "OfmdX_V4WQ_A"
      }
    },
    {
      "cell_type": "code",
      "source": [
        "corretor = SpellChecker(language='pt')\n",
        "\n",
        "# find those words that may be misspelled\n",
        "erros = corretor.unknown(['ingreso', 'bola', 'futbol', 'estádio'])\n",
        "\n",
        "for erro in erros:\n",
        "    # Get the one `most likely` answer\n",
        "    correcao = corretor.correction(erro)\n",
        "\n",
        "    # Get a list of `likely` options\n",
        "    candidatas = corretor.candidates(erro)\n",
        "\n",
        "    print(f\"Palavra incorreta: {erro}, correção:{correcao}, outras opções: {candidatas}\")"
      ],
      "metadata": {
        "id": "XUvLNPPAhI9I",
        "colab": {
          "base_uri": "https://localhost:8080/"
        },
        "outputId": "9b875a51-de29-49df-9eda-ddbca98ad1d8"
      },
      "execution_count": 13,
      "outputs": [
        {
          "output_type": "stream",
          "name": "stdout",
          "text": [
            "Palavra incorreta: futbol, correção:futebol, outras opções: {'futebol'}\n",
            "Palavra incorreta: ingreso, correção:ingresso, outras opções: {'ingleso', 'ingresso'}\n"
          ]
        }
      ]
    },
    {
      "cell_type": "code",
      "source": [
        "def corrija_texto(texto):\n",
        "\n",
        "  corretor = SpellChecker(language=\"pt\")\n",
        "\n",
        "  texto_aux = texto[:]\n",
        "  erros = corretor.unknown(texto_aux.split(\" \"))\n",
        "\n",
        "  for erro in erros:\n",
        "    correcao = corretor.correction(erro)\n",
        "    if correcao:\n",
        "      texto_aux = texto_aux.replace(erro, correcao)\n",
        "\n",
        "  return texto_aux\n",
        "\n",
        "print(formata_msg(\"INFO\", \"Função de correção de texto pronta para utilização.\"))"
      ],
      "metadata": {
        "id": "aupJDldGYL3M",
        "colab": {
          "base_uri": "https://localhost:8080/"
        },
        "outputId": "3d47b9fb-bfdb-42e3-fb0f-b95b3832d708"
      },
      "execution_count": 17,
      "outputs": [
        {
          "output_type": "stream",
          "name": "stdout",
          "text": [
            "[INFO] 2024-05-05 02:37:58 - Função de correção de texto pronta para utilização.\n"
          ]
        }
      ]
    },
    {
      "cell_type": "code",
      "source": [
        "print(corrija_texto(texto_limpo))"
      ],
      "metadata": {
        "id": "MJfVeNOXYuh1",
        "colab": {
          "base_uri": "https://localhost:8080/"
        },
        "outputId": "aeacd04d-2f95-4e70-db21-6d48efb77d3a"
      },
      "execution_count": 19,
      "outputs": [
        {
          "output_type": "stream",
          "name": "stdout",
          "text": [
            "A marca do homem imaturo é querer morrer de maneira nobre por alguma causa🕊️, enquanto a marca do homem madura é querer viver de maneira humilde por uma causa☮️.\n"
          ]
        }
      ]
    },
    {
      "cell_type": "markdown",
      "source": [
        "# Normalização unicode\n",
        "\n",
        "A **normalização unicode** ou **codificação de texto** converte caracteres unicode em alguma forma de representação binária para ser armazenado em um computador."
      ],
      "metadata": {
        "id": "d98hzX75Wi7S"
      }
    },
    {
      "cell_type": "code",
      "source": [
        "texto = 'Eu amo pizza 🍕!  Vamos reservar uma viagem para 🚗 Giza?'\n",
        "\n",
        "print(\"Texto original:\")\n",
        "print(texto)\n",
        "\n",
        "print(\"\\nTexto normalizado:\")\n",
        "print(texto.encode(\"utf-8\"))"
      ],
      "metadata": {
        "id": "CYqjJr8wiCo-",
        "colab": {
          "base_uri": "https://localhost:8080/"
        },
        "outputId": "40a63371-f80b-48f6-8e1e-3b47daed0f4b"
      },
      "execution_count": 20,
      "outputs": [
        {
          "output_type": "stream",
          "name": "stdout",
          "text": [
            "Texto original:\n",
            "Eu amo pizza 🍕!  Vamos reservar uma viagem para 🚗 Giza?\n",
            "\n",
            "Texto normalizado:\n",
            "b'Eu amo pizza \\xf0\\x9f\\x8d\\x95!  Vamos reservar uma viagem para \\xf0\\x9f\\x9a\\x97 Giza?'\n"
          ]
        }
      ]
    },
    {
      "cell_type": "code",
      "source": [],
      "metadata": {
        "id": "A6fmUuVomeua"
      },
      "execution_count": null,
      "outputs": []
    }
  ]
}